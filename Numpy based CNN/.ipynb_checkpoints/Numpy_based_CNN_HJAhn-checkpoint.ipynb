{
 "cells": [
  {
   "cell_type": "code",
   "execution_count": 1,
   "metadata": {
    "id": "zgsk8FCnhgod"
   },
   "outputs": [],
   "source": [
    "import numpy as np\n",
    "import matplotlib.pyplot as plt"
   ]
  },
  {
   "cell_type": "code",
   "execution_count": 2,
   "metadata": {
    "colab": {
     "base_uri": "https://localhost:8080/",
     "height": 35
    },
    "executionInfo": {
     "elapsed": 12,
     "status": "ok",
     "timestamp": 1644301939017,
     "user": {
      "displayName": "G.M. C",
      "photoUrl": "https://lh3.googleusercontent.com/a/default-user=s64",
      "userId": "01123269045867249031"
     },
     "user_tz": -540
    },
    "id": "kOJx6gp0LdWu",
    "outputId": "0072a499-702b-4c6d-fe04-a6c94139b3f1"
   },
   "outputs": [
    {
     "data": {
      "text/plain": [
       "\"\\nfrom sklearn.datasets import fetch_openml\\n\\nmnist = fetch_openml('mnist_784')\\n\""
      ]
     },
     "execution_count": 2,
     "metadata": {},
     "output_type": "execute_result"
    }
   ],
   "source": [
    "'''\n",
    "from sklearn.datasets import fetch_openml\n",
    "\n",
    "mnist = fetch_openml('mnist_784')\n",
    "'''"
   ]
  },
  {
   "cell_type": "code",
   "execution_count": 3,
   "metadata": {
    "colab": {
     "base_uri": "https://localhost:8080/",
     "height": 70
    },
    "executionInfo": {
     "elapsed": 11,
     "status": "ok",
     "timestamp": 1644301939018,
     "user": {
      "displayName": "G.M. C",
      "photoUrl": "https://lh3.googleusercontent.com/a/default-user=s64",
      "userId": "01123269045867249031"
     },
     "user_tz": -540
    },
    "id": "SAlPAZSymPtB",
    "outputId": "47ce6157-ca11-4bb4-8b12-83a0011ba624"
   },
   "outputs": [
    {
     "data": {
      "text/plain": [
       "'\\nfrom sklearn.preprocessing import StandardScaler\\nmnist_data, mnist_target = mnist.data.values, mnist.target.values\\nX, y = StandardScaler().fit_transform(mnist_data), mnist_target.astype(np.int)\\n# X, y = mnist_data, mnist_target.astype(np.int)\\ny_ = np.zeros((y.size, 10))\\ny_[np.arange(y.size), y] = 1\\n'"
      ]
     },
     "execution_count": 3,
     "metadata": {},
     "output_type": "execute_result"
    }
   ],
   "source": [
    "'''\n",
    "from sklearn.preprocessing import StandardScaler\n",
    "mnist_data, mnist_target = mnist.data.values, mnist.target.values\n",
    "X, y = StandardScaler().fit_transform(mnist_data), mnist_target.astype(np.int)\n",
    "# X, y = mnist_data, mnist_target.astype(np.int)\n",
    "y_ = np.zeros((y.size, 10))\n",
    "y_[np.arange(y.size), y] = 1\n",
    "'''"
   ]
  },
  {
   "cell_type": "code",
   "execution_count": 4,
   "metadata": {
    "colab": {
     "base_uri": "https://localhost:8080/"
    },
    "executionInfo": {
     "elapsed": 18599,
     "status": "ok",
     "timestamp": 1644301957607,
     "user": {
      "displayName": "G.M. C",
      "photoUrl": "https://lh3.googleusercontent.com/a/default-user=s64",
      "userId": "01123269045867249031"
     },
     "user_tz": -540
    },
    "id": "BlmxRgXEZ6tQ",
    "outputId": "acb38044-f91a-4293-e440-0cba5c21196d"
   },
   "outputs": [
    {
     "ename": "ModuleNotFoundError",
     "evalue": "No module named 'google.colab'",
     "output_type": "error",
     "traceback": [
      "\u001b[1;31m---------------------------------------------------------------------------\u001b[0m",
      "\u001b[1;31mModuleNotFoundError\u001b[0m                       Traceback (most recent call last)",
      "\u001b[1;32m~\\AppData\\Local\\Temp\\ipykernel_5236\\1408506528.py\u001b[0m in \u001b[0;36m<module>\u001b[1;34m\u001b[0m\n\u001b[1;32m----> 1\u001b[1;33m \u001b[1;32mfrom\u001b[0m \u001b[0mgoogle\u001b[0m\u001b[1;33m.\u001b[0m\u001b[0mcolab\u001b[0m \u001b[1;32mimport\u001b[0m \u001b[0mdrive\u001b[0m\u001b[1;33m\u001b[0m\u001b[1;33m\u001b[0m\u001b[0m\n\u001b[0m\u001b[0;32m      2\u001b[0m \u001b[0mdrive\u001b[0m\u001b[1;33m.\u001b[0m\u001b[0mmount\u001b[0m\u001b[1;33m(\u001b[0m\u001b[1;34m'/content/drive'\u001b[0m\u001b[1;33m)\u001b[0m\u001b[1;33m\u001b[0m\u001b[1;33m\u001b[0m\u001b[0m\n",
      "\u001b[1;31mModuleNotFoundError\u001b[0m: No module named 'google.colab'"
     ]
    }
   ],
   "source": [
    "from google.colab import drive\n",
    "drive.mount('/content/drive')"
   ]
  },
  {
   "cell_type": "code",
   "execution_count": null,
   "metadata": {
    "colab": {
     "base_uri": "https://localhost:8080/"
    },
    "executionInfo": {
     "elapsed": 10,
     "status": "ok",
     "timestamp": 1644301957608,
     "user": {
      "displayName": "G.M. C",
      "photoUrl": "https://lh3.googleusercontent.com/a/default-user=s64",
      "userId": "01123269045867249031"
     },
     "user_tz": -540
    },
    "id": "o08JiPROaCWl",
    "outputId": "dcedbf67-2615-4a24-a82e-d619eb8d1cbf"
   },
   "outputs": [],
   "source": [
    "%cd drive/My\\ Drive/Colab\\ Notebooks"
   ]
  },
  {
   "cell_type": "code",
   "execution_count": null,
   "metadata": {
    "id": "1l0HCNWfZJEo"
   },
   "outputs": [],
   "source": [
    "import cv2\n",
    "\n",
    "input_size = (70, 70)\n",
    "def get_data(batch_size=25):\n",
    "  targets = np.random.choice(train_filenames.shape[0], batch_size)\n",
    "  y_batch = np.zeros(batch_size)\n",
    "  # X_batch = np.zeros((batch_size, input_size[0], input_size[1], 3))\n",
    "  X_batch = []\n",
    "  for i, f in np.ndenumerate(train_filenames[targets]):\n",
    "    category = f.split('.')[0]\n",
    "    if category == 'dog':\n",
    "      y_batch[i] = 0\n",
    "    else :\n",
    "      y_batch[i] = 1\n",
    "    img = cv2.imread(train_path+\"/\"+f)\n",
    "    resized_img = cv2.resize(img, dsize=input_size, interpolation=cv2.INTER_CUBIC)\n",
    "    X_batch.append(resized_img)\n",
    "  y_batch = y_batch.astype(np.int)\n",
    "  y_batch_ = np.zeros((y_batch.size, 2))\n",
    "  y_batch_[np.arange(y_batch.size), y_batch] = 1.\n",
    "  # return np.array(X_batch).transpose(0,3,1,2) / 255., y_batch_\n",
    "  return np.array(X_batch).transpose(0,3,1,2), y_batch_"
   ]
  },
  {
   "cell_type": "code",
   "execution_count": null,
   "metadata": {
    "id": "o_HWHaxLaMmc"
   },
   "outputs": [],
   "source": [
    "import os\n",
    "ㅍtrain_path = './../ml-data/Cat-Dog/train'\n",
    "train_filenames = np.array(os.listdir(train_path))"
   ]
  },
  {
   "cell_type": "code",
   "execution_count": 5,
   "metadata": {
    "id": "LA81EzQsaaFe"
   },
   "outputs": [
    {
     "ename": "NameError",
     "evalue": "name 'get_data' is not defined",
     "output_type": "error",
     "traceback": [
      "\u001b[1;31m---------------------------------------------------------------------------\u001b[0m",
      "\u001b[1;31mNameError\u001b[0m                                 Traceback (most recent call last)",
      "\u001b[1;32m~\\AppData\\Local\\Temp\\ipykernel_5236\\48683925.py\u001b[0m in \u001b[0;36m<module>\u001b[1;34m\u001b[0m\n\u001b[1;32m----> 1\u001b[1;33m \u001b[0mX_test\u001b[0m\u001b[1;33m,\u001b[0m \u001b[0my_test\u001b[0m \u001b[1;33m=\u001b[0m \u001b[0mget_data\u001b[0m\u001b[1;33m(\u001b[0m\u001b[0mbatch_size\u001b[0m\u001b[1;33m=\u001b[0m\u001b[1;36m200\u001b[0m\u001b[1;33m)\u001b[0m\u001b[1;33m\u001b[0m\u001b[1;33m\u001b[0m\u001b[0m\n\u001b[0m",
      "\u001b[1;31mNameError\u001b[0m: name 'get_data' is not defined"
     ]
    }
   ],
   "source": [
    "X_test, y_test = get_data(batch_size=200)"
   ]
  },
  {
   "cell_type": "code",
   "execution_count": null,
   "metadata": {
    "id": "s5VCpwPlaAYj"
   },
   "outputs": [],
   "source": []
  },
  {
   "cell_type": "markdown",
   "metadata": {
    "id": "VmTgjK50DjWW"
   },
   "source": [
    "## Implementing all layers of CNN totally"
   ]
  },
  {
   "cell_type": "markdown",
   "metadata": {
    "id": "yAGTLA5tEVK9"
   },
   "source": [
    "### image to col & col to image function"
   ]
  },
  {
   "cell_type": "code",
   "execution_count": 6,
   "metadata": {
    "id": "5LgA73Bihlyn"
   },
   "outputs": [],
   "source": [
    "def im2col(input_data, FH, FW, stride=1, pad=0):\n",
    "  \"\"\"\n",
    "  input_data : (N, C, H, W)\n",
    "  fh, fw : int\n",
    "  stride, pad : int\n",
    "  \"\"\"\n",
    "  N, C, H, W = input_data.shape\n",
    "  OH = (H + 2 * pad - FH) // stride + 1\n",
    "  OW = (W + 2 * pad - FW) // stride + 1\n",
    "  img = np.pad(input_data, [(0,0), (0,0), (pad, pad), (pad, pad)], 'constant')\n",
    "  col = np.zeros((N, OH, OW, C, FH, FW))\n",
    "\n",
    "  for h in range(OH):\n",
    "    ii = h * stride\n",
    "    for w in range(OW):\n",
    "      jj = w * stride\n",
    "      col[:, h, w, :, :, :] = img[:, :, ii:ii+FH, jj:jj+FW]\n",
    "  col = col.reshape(N*OH*OW, -1)\n",
    "  return col\n",
    "\n",
    "def col2im(col, input_shape, FH, FW, stride=1, pad=0):\n",
    "  N, C, H, W = input_shape\n",
    "  OH = (H + 2 * pad - FH) // stride + 1\n",
    "  OW = (W + 2 * pad - FW) // stride + 1\n",
    "  col = col.reshape(N, OH, OW, C, FH, FW)\n",
    "  img = np.zeros((N, C, H+2*pad, W+2*pad))\n",
    "  for h in range(OH):\n",
    "    ii = h * stride\n",
    "    for w in range(OW):\n",
    "      jj = w * stride\n",
    "      img[:,:,ii:ii+FH, jj:jj+FW] = col[:, h, w, :, :, :]\n",
    "  return img[:, :, pad:pad+H, pad:pad+W]"
   ]
  },
  {
   "cell_type": "code",
   "execution_count": 7,
   "metadata": {
    "id": "b2eAVemJNEnH"
   },
   "outputs": [],
   "source": [
    "def col2im1(col, input_shape, FH, FW, stride=1, pad=0):\n",
    "  N, C, H, W = input_shape\n",
    "  OH = (H + 2 * pad - FH) // stride + 1\n",
    "  OW = (W + 2 * pad - FW) // stride + 1\n",
    "  col = col.reshape(N, OH, OW, C, FH, FW)\n",
    "  img = np.zeros((N, C, H+2*pad, W+2*pad))\n",
    "  for h in range(OH):\n",
    "    ii = h * stride\n",
    "    for w in range(OW):\n",
    "      jj = w * stride\n",
    "      img[:,:,ii:ii+FH, jj:jj+FW] = col[:, h, w, :, :, :]\n",
    "  return img[:, :, pad:pad+H, pad:pad+W]\n",
    "\n",
    "def col2im2(col, input_shape, FH, FW, stride=1, pad=0):\n",
    "  N, C, H, W = input_shape\n",
    "  OH = (H + 2 * pad - FH) // stride + 1\n",
    "  OW = (W + 2 * pad - FW) // stride + 1\n",
    "  col = col.reshape(N, OH, OW, C, FH, FW)\n",
    "  img = np.zeros((N, C, H+2*pad, W+2*pad))\n",
    "  for h in range(OH):\n",
    "    ii = h * stride\n",
    "    for w in range(OW):\n",
    "      jj = w * stride\n",
    "      img[:,:,ii:ii+FH, jj:jj+FW] += col[:, h, w, :, :, :]\n",
    "  return img[:, :, pad:pad+H, pad:pad+W]"
   ]
  },
  {
   "cell_type": "markdown",
   "metadata": {
    "id": "KFDIVp3sEbC9"
   },
   "source": [
    "### Activation and Evaluating function"
   ]
  },
  {
   "cell_type": "code",
   "execution_count": 8,
   "metadata": {
    "id": "noLC-gm7LeYN"
   },
   "outputs": [],
   "source": [
    "def sigmoid(x):\n",
    "  return 1 / (1 + np.exp(-x))\n",
    "\n",
    "class Relu:\n",
    "  def __init__(self):\n",
    "    self.mask = None\n",
    "\n",
    "  def forward(self, X):\n",
    "    self.mask = (X <= 0)\n",
    "    self.out = X.copy()\n",
    "    self.out[self.mask] = 0\n",
    "    return self.out\n",
    "  \n",
    "  def backward(self, dout):\n",
    "    dout[self.mask] = 0\n",
    "    dx = dout\n",
    "    return dx\n",
    "\n",
    "def softmax(x):\n",
    "  C = np.max(x)\n",
    "  exps = np.exp(x - C)\n",
    "  if x.ndim == 1:\n",
    "    sum_exps = np.sum(exps)\n",
    "    return exps / sum_exps\n",
    "  sum_exps = np.sum(exps, axis=1)\n",
    "  return (exps.T / sum_exps).T\n",
    "\n",
    "def cross_entropy_error(y, t):\n",
    "  if y.ndim == 1:\n",
    "    y = y.reshape(1, y.size)\n",
    "    t = t.reshape(1, t.size)\n",
    "  batch_size = t.shape[0]\n",
    "  return -np.sum( t * np.log(y + 1e-4) ) / batch_size"
   ]
  },
  {
   "cell_type": "markdown",
   "metadata": {
    "id": "kyNudV6OEyMk"
   },
   "source": [
    "### Affine function"
   ]
  },
  {
   "cell_type": "code",
   "execution_count": 9,
   "metadata": {
    "id": "w5QDYthKrDO5"
   },
   "outputs": [],
   "source": [
    "class Affine:\n",
    "  def __init__(self, W, b):\n",
    "    self.W = W\n",
    "    self.b = b\n",
    "    self.x = None\n",
    "    self.original_x_shape = None\n",
    "    self.dW = None\n",
    "    self.db = None\n",
    "\n",
    "  def forward(self, x):\n",
    "    self.original_x_shape = x.shape\n",
    "    self.x = x.reshape(x.shape[0], -1)\n",
    "    return np.dot(self.x, self.W) + self.b\n",
    "  \n",
    "  def backward(self, dout):\n",
    "    self.db = np.sum(dout, axis=0)\n",
    "    self.dw = np.dot(self.x.T, dout)\n",
    "    dx = np.dot(dout, self.W.T)\n",
    "    return dx.reshape(self.original_x_shape)"
   ]
  },
  {
   "cell_type": "markdown",
   "metadata": {
    "id": "pnAb61hWE0Iz"
   },
   "source": [
    "### SoftmaxWithLoss function"
   ]
  },
  {
   "cell_type": "code",
   "execution_count": 10,
   "metadata": {
    "id": "uKYuFsQQEWP-"
   },
   "outputs": [],
   "source": [
    "class SoftmaxWithLoss:\n",
    "  def __init__(self):\n",
    "    self.loss = None\n",
    "    self.y = None\n",
    "    self.t = None\n",
    "  \n",
    "  def forward(self, x, t):\n",
    "    self.t = t\n",
    "    self.y = softmax(x)\n",
    "    self.loss = cross_entropy_error(self.y, self.t)\n",
    "    return self.loss\n",
    "  \n",
    "  def backward(self, dout=1):\n",
    "    batch_size = self.t.shape[0]\n",
    "    dx = (self.y - self.t) / batch_size\n",
    "    return dx"
   ]
  },
  {
   "cell_type": "markdown",
   "metadata": {
    "id": "KX0my-QKE288"
   },
   "source": [
    "### Initor function"
   ]
  },
  {
   "cell_type": "code",
   "execution_count": 11,
   "metadata": {
    "id": "lCBBstwNoazb"
   },
   "outputs": [],
   "source": [
    "def gaussianInit(input_size, output_size, weight_init_std=0.01):\n",
    "  return np.random.randn(input_size, output_size) * weight_init_std\n",
    "\n",
    "def xavierInit(input_size, output_size, weight_init_std=0.01):\n",
    "  return np.random.randn(input_size, output_size) / np.sqrt(input_size)\n",
    "\n",
    "def heInit(input_size, output_size, weight_init_std=0.01):\n",
    "  return np.random.randn(input_size, output_size) * np.sqrt( 2 / input_size)"
   ]
  },
  {
   "cell_type": "markdown",
   "metadata": {
    "id": "B87aEhEfE_38"
   },
   "source": [
    "### Convolution layer"
   ]
  },
  {
   "cell_type": "code",
   "execution_count": 12,
   "metadata": {
    "id": "mgRqF4b00K9n"
   },
   "outputs": [],
   "source": [
    "class Convolution:\n",
    "  def __init__(self, W, b, stride=1, pad=0):\n",
    "    self.W = W\n",
    "    self.b = b\n",
    "    self.stride = stride\n",
    "    self.pad = pad\n",
    "\n",
    "  def forward(self, x):\n",
    "    self.x = x\n",
    "    N, C, H, W = self.x.shape\n",
    "    FN, C, FH, FW = self.W.shape\n",
    "    out_h = (H + 2*self.pad - FH) // self.stride + 1\n",
    "    out_w = (W + 2*self.pad - FW) // self.stride + 1\n",
    "    \n",
    "    self.col = im2col(x, FH, FW, self.stride, self.pad)\n",
    "    self.col_W = self.W.reshape(FN, -1).T\n",
    "    out = np.dot(self.col, self.col_W) + self.b\n",
    "\n",
    "    out = out.reshape(N, out_h, out_w, FN).transpose(0,3,1,2)\n",
    "    return out\n",
    "  \n",
    "  def backward(self, dout):\n",
    "    N, C, H, W = self.x.shape\n",
    "    FN, C, FH, FW = self.W.shape\n",
    "    out_h = (H + 2*self.pad - FH) // self.stride + 1\n",
    "    out_w = (W + 2*self.pad - FW) // self.stride + 1\n",
    "    # step1\n",
    "    dout = dout.transpose(0,2,3,1).reshape(-1, FN)\n",
    "    # step2 for db\n",
    "    self.db = np.sum(dout, axis=0)\n",
    "    # step3 for self.col * self.col_W\n",
    "    dcol = np.dot(dout, self.col_W.T)\n",
    "    dcol_W = np.dot(self.col.T, dout)\n",
    "    # step4 for dx, dw\n",
    "    dx = col2im(dcol, self.x.shape, FH, FW, self.stride, self.pad)\n",
    "    self.dw = dcol_W.T.reshape(FN, C, FH, FW)\n",
    "    return dx"
   ]
  },
  {
   "cell_type": "markdown",
   "metadata": {
    "id": "LHuDfWWnMSKs"
   },
   "source": [
    "### Pooling layer"
   ]
  },
  {
   "cell_type": "code",
   "execution_count": 13,
   "metadata": {
    "id": "dmc3lmAuKBdy"
   },
   "outputs": [],
   "source": [
    "class Pooling:\n",
    "  def __init__(self, pool_h, pool_w, stride=1, pad=0):\n",
    "    self.pool_h = pool_h\n",
    "    self.pool_w = pool_w\n",
    "    self.stride = stride\n",
    "    self.pad = pad\n",
    "  \n",
    "  def forward(self, x):\n",
    "    N, C, H, W = x.shape\n",
    "    out_h = (H - self.pool_h) // self.stride + 1\n",
    "    out_w = (W - self.pool_w) // self.stride + 1\n",
    "    col = im2col(x, self.pool_h, self.pool_w, stride=self.stride, pad=self.pad)\n",
    "    col = col.reshape(-1, self.pool_h * self.pool_w)\n",
    "    self.arg_max = np.argmax(col, axis=1)\n",
    "    out = np.max(col, axis=1)\n",
    "    out = out.reshape(N, out_h, out_w, C).transpose(0,3,1,2)\n",
    "    self.x = x\n",
    "    return out # out.shape : N, C, out_h, out_w\n",
    "\n",
    "  def backward(self, dout): # dout.shape : N, C, out_h, out_w\n",
    "    dout = dout.transpose(0,2,3,1)  # dout.shape : N, out_h, out_w, C\n",
    "    pool_size = self.pool_h * self.pool_w\n",
    "    dmax = np.zeros((dout.size, pool_size))                       # dmax.shape : N x out_h x out_w x C, pool_h x pool_w\n",
    "    dmax[np.arange(self.arg_max.size), self.arg_max.flatten()] = dout.flatten()   \n",
    "    dmax = dmax.reshape(dout.shape + (pool_size,))                # dmax.shape : N, out_h, out_w, C, pool_h x pool_w\n",
    "    dcol = dmax.reshape(dmax.shape[0] * dmax.shape[1] * dmax.shape[2], -1)            # dmax.shape : N x out_h x out_w, C x pool_h x pool_w\n",
    "    dx = col2im(dcol, self.x.shape, self.pool_h, self.pool_w, self.stride, self.pad)  # dx.shape : N, C, H, W\n",
    "    return dx"
   ]
  },
  {
   "cell_type": "code",
   "execution_count": 14,
   "metadata": {
    "id": "xcsK5DO7B9nA"
   },
   "outputs": [],
   "source": [
    "p = Pooling(2, 2, 2, 0)\n",
    "N, C, H, W = 10, 3, 10, 10\n",
    "x = np.arange(3000).reshape(N, C, H, W)\n",
    "out = p.forward(x)"
   ]
  },
  {
   "cell_type": "code",
   "execution_count": 15,
   "metadata": {
    "colab": {
     "base_uri": "https://localhost:8080/"
    },
    "executionInfo": {
     "elapsed": 308,
     "status": "ok",
     "timestamp": 1644302045203,
     "user": {
      "displayName": "G.M. C",
      "photoUrl": "https://lh3.googleusercontent.com/a/default-user=s64",
      "userId": "01123269045867249031"
     },
     "user_tz": -540
    },
    "id": "tlNqVFFtCf_V",
    "outputId": "e44a5bfc-cf8f-4403-979b-c8e18a49cf58"
   },
   "outputs": [
    {
     "data": {
      "text/plain": [
       "(10, 3, 5, 5)"
      ]
     },
     "execution_count": 15,
     "metadata": {},
     "output_type": "execute_result"
    }
   ],
   "source": [
    "out.shape"
   ]
  },
  {
   "cell_type": "markdown",
   "metadata": {
    "id": "H5DaRwHhYuSG"
   },
   "source": [
    "### Making CNN architecture\n",
    "\n",
    "<Architecture>\n",
    "input -- --> Conv -> ReLU -> Pooling -- --> Affine -> ReLU -- --> Affine -> Softmax"
   ]
  },
  {
   "cell_type": "code",
   "execution_count": 16,
   "metadata": {
    "id": "pk6DBxSITcqV"
   },
   "outputs": [],
   "source": [
    "from collections import OrderedDict\n",
    "\n",
    "class SimpleConvNet:\n",
    "  # def __init__(self, input_dim=(1, 28, 28), conv_param={'filter_num':30, 'filter_size':5, 'pad':0, 'stride':1}, \\\n",
    "  #              hidden_size=100, output_size=10, initor=\"Gaussian\", weight_init_std=0.01):\n",
    "  #  filter_num = conv_param['filter_num']\n",
    "  #  filter_size = conv_param['filter_size']\n",
    "  #  filter_pad = conv_param['pad']\n",
    "  #  filter_stride = conv_param['stride']\n",
    "  #  input_size = input_dim[1]\n",
    "  #  conv_output_size = (input_size + 2 * filter_pad - filter_size) // filter_stride + 1\n",
    "  #  pool_output_size = int(filter_num * (conv_output_size / 2)**2)  # pooling layer's size: 2, stride:2\n",
    "  def __init__(self, initor='Gaussian', weight_init_std=0.01): \n",
    "    conv_output_size = 64\n",
    "    pool_output_size = int(30 * (conv_output_size / 2) ** 2)\n",
    "    print(pool_output_size)\n",
    "    hidden_size = 100\n",
    "    output_size = 2\n",
    "    init_functions = {'Gaussin':gaussianInit, 'Xavier':xavierInit, 'He':heInit}\n",
    "    self.params = {}\n",
    "    # for Convolution layer 1\n",
    "    self.params['W1'] = np.random.randn(30, 3, 3, 3) * weight_init_std\n",
    "    self.params['b1'] = np.zeros(30)\n",
    "    # for Convolution layer 2\n",
    "    self.params['W2'] = np.random.randn(30, 30, 3, 3) * weight_init_std\n",
    "    self.params['b2'] = np.zeros(30)\n",
    "    # for Convolution layer 3\n",
    "    self.params['W5'] = np.random.randn(30, 30, 3, 3) * weight_init_std\n",
    "    self.params['b5'] = np.zeros(30)\n",
    "    # for Affine layer 1\n",
    "    self.params['W3'] = init_functions[initor](pool_output_size, hidden_size, weight_init_std)\n",
    "    self.params['b3'] = np.zeros(hidden_size)\n",
    "    # for Affine layer 2\n",
    "    self.params['W4'] = init_functions[initor](hidden_size, output_size, weight_init_std)\n",
    "    self.params['b4'] = np.zeros(output_size)\n",
    "\n",
    "    self.layers = OrderedDict()\n",
    "    self.layers['Conv1'] = Convolution(self.params['W1'], self.params['b1'], stride=1, pad=0)\n",
    "    self.layers['Relu1'] = Relu()\n",
    "    self.layers['Conv2'] = Convolution(self.params['W2'], self.params['b2'], stride=1, pad=0)\n",
    "    self.layers['Relu2'] = Relu()\n",
    "    self.layers['Conv3'] = Convolution(self.params['W5'], self.params['b5'], stride=1, pad=0)\n",
    "    self.layers['Relu3'] = Relu()\n",
    "    self.layers['Pool1'] = Pooling(pool_h=2, pool_w=2, stride=2)\n",
    "    self.layers['Affine1'] = Affine(self.params['W3'], self.params['b3'])\n",
    "    self.layers['Relu4'] = Relu()\n",
    "    self.layers['Affine2'] = Affine(self.params['W4'], self.params['b4'])\n",
    "    self.last_layer = SoftmaxWithLoss()\n",
    "  \n",
    "  def predict(self, x):\n",
    "    for layer in self.layers.values():\n",
    "      x = layer.forward(x)\n",
    "    return x\n",
    "  \n",
    "  def loss(self, x, t):\n",
    "    y = self.predict(x)\n",
    "    return self.last_layer.forward(y, t)\n",
    "  \n",
    "  def accuracy(self, x, t):\n",
    "    y = self.predict(x)\n",
    "    y = np.argmax(y, axis=1)\n",
    "    if t.ndim != 1 : t = np.argmax(t, axis=1)\n",
    "    accuracy = np.sum(y == t) / float(x.shape[0])\n",
    "    return accuracy\n",
    "\n",
    "  def gradient(self, x, t):\n",
    "    self.loss(x, t)\n",
    "\n",
    "    dout = 1\n",
    "    dout = self.last_layer.backward(dout)\n",
    "    layers = list(self.layers.values())\n",
    "    layers.reverse()\n",
    "    for layer in layers:\n",
    "      dout = layer.backward(dout)\n",
    "    \n",
    "    grads = {}\n",
    "    grads['W1'] = self.layers['Conv1'].dw\n",
    "    grads['b1'] = self.layers['Conv1'].db\n",
    "    grads['W2'] = self.layers['Conv2'].dw\n",
    "    grads['b2'] = self.layers['Conv2'].db\n",
    "    grads['W3'] = self.layers['Affine1'].dw\n",
    "    grads['b3'] = self.layers['Affine1'].db\n",
    "    grads['W4'] = self.layers['Affine2'].dw\n",
    "    grads['b4'] = self.layers['Affine2'].db\n",
    "    grads['W5'] = self.layers['Conv3'].dw\n",
    "    grads['b5'] = self.layers['Conv3'].db\n",
    "\n",
    "    return grads"
   ]
  },
  {
   "cell_type": "code",
   "execution_count": 17,
   "metadata": {
    "id": "VAhsxkKOhqBy"
   },
   "outputs": [
    {
     "ename": "NameError",
     "evalue": "name 'X_test' is not defined",
     "output_type": "error",
     "traceback": [
      "\u001b[1;31m---------------------------------------------------------------------------\u001b[0m",
      "\u001b[1;31mNameError\u001b[0m                                 Traceback (most recent call last)",
      "\u001b[1;32m~\\AppData\\Local\\Temp\\ipykernel_5236\\3974321307.py\u001b[0m in \u001b[0;36m<module>\u001b[1;34m\u001b[0m\n\u001b[1;32m----> 1\u001b[1;33m \u001b[0mX_test\u001b[0m\u001b[1;33m.\u001b[0m\u001b[0mshape\u001b[0m\u001b[1;33m,\u001b[0m \u001b[0my_test\u001b[0m\u001b[1;33m.\u001b[0m\u001b[0mshape\u001b[0m\u001b[1;33m\u001b[0m\u001b[1;33m\u001b[0m\u001b[0m\n\u001b[0m",
      "\u001b[1;31mNameError\u001b[0m: name 'X_test' is not defined"
     ]
    }
   ],
   "source": [
    "X_test.shape, y_test.shape"
   ]
  },
  {
   "cell_type": "code",
   "execution_count": 18,
   "metadata": {
    "id": "Llbtu0EEjZI1"
   },
   "outputs": [
    {
     "name": "stdout",
     "output_type": "stream",
     "text": [
      "30720\n"
     ]
    },
    {
     "ename": "NameError",
     "evalue": "name 'get_data' is not defined",
     "output_type": "error",
     "traceback": [
      "\u001b[1;31m---------------------------------------------------------------------------\u001b[0m",
      "\u001b[1;31mNameError\u001b[0m                                 Traceback (most recent call last)",
      "\u001b[1;32m~\\AppData\\Local\\Temp\\ipykernel_5236\\3887897893.py\u001b[0m in \u001b[0;36m<module>\u001b[1;34m\u001b[0m\n\u001b[0;32m     15\u001b[0m   \u001b[0mvelocity\u001b[0m\u001b[1;33m[\u001b[0m\u001b[1;34m'b'\u001b[0m\u001b[1;33m+\u001b[0m\u001b[0mstr\u001b[0m\u001b[1;33m(\u001b[0m\u001b[0mii\u001b[0m\u001b[1;33m)\u001b[0m\u001b[1;33m]\u001b[0m \u001b[1;33m=\u001b[0m \u001b[1;36m0.\u001b[0m\u001b[1;33m\u001b[0m\u001b[1;33m\u001b[0m\u001b[0m\n\u001b[0;32m     16\u001b[0m \u001b[1;32mfor\u001b[0m \u001b[0mi\u001b[0m \u001b[1;32min\u001b[0m \u001b[0mrange\u001b[0m\u001b[1;33m(\u001b[0m\u001b[0miter_num\u001b[0m\u001b[1;33m)\u001b[0m\u001b[1;33m:\u001b[0m\u001b[1;33m\u001b[0m\u001b[1;33m\u001b[0m\u001b[0m\n\u001b[1;32m---> 17\u001b[1;33m   \u001b[0mX_batch\u001b[0m\u001b[1;33m,\u001b[0m \u001b[0my_batch\u001b[0m \u001b[1;33m=\u001b[0m \u001b[0mget_data\u001b[0m\u001b[1;33m(\u001b[0m\u001b[0mbatch_size\u001b[0m\u001b[1;33m=\u001b[0m\u001b[0mbatch_size\u001b[0m\u001b[1;33m)\u001b[0m\u001b[1;33m\u001b[0m\u001b[1;33m\u001b[0m\u001b[0m\n\u001b[0m\u001b[0;32m     18\u001b[0m   \u001b[1;31m#X_batch, y_batch = X_test, y_test\u001b[0m\u001b[1;33m\u001b[0m\u001b[1;33m\u001b[0m\u001b[0m\n\u001b[0;32m     19\u001b[0m   \u001b[0mgrads\u001b[0m \u001b[1;33m=\u001b[0m \u001b[0mnet\u001b[0m\u001b[1;33m.\u001b[0m\u001b[0mgradient\u001b[0m\u001b[1;33m(\u001b[0m\u001b[0mX_batch\u001b[0m\u001b[1;33m,\u001b[0m \u001b[0my_batch\u001b[0m\u001b[1;33m)\u001b[0m\u001b[1;33m\u001b[0m\u001b[1;33m\u001b[0m\u001b[0m\n",
      "\u001b[1;31mNameError\u001b[0m: name 'get_data' is not defined"
     ]
    }
   ],
   "source": [
    "net = SimpleConvNet(initor=\"He\")\n",
    "iter_num = 10000\n",
    "lr = 0.005\n",
    "batch_size = 40 \n",
    "epoch_size = max((iter_num // batch_size), 1)\n",
    "\n",
    "train_loss_list = []\n",
    "train_acc_list = []\n",
    "test_acc_list = []\n",
    "e1 = 0.9\n",
    "e2 = 0.1\n",
    "velocity = {}\n",
    "for ii in range(1, 5+1):\n",
    "  velocity['W'+str(ii)] = 0.\n",
    "  velocity['b'+str(ii)] = 0.\n",
    "for i in range(iter_num):\n",
    "  X_batch, y_batch = get_data(batch_size=batch_size) \n",
    "  #X_batch, y_batch = X_test, y_test\n",
    "  grads = net.gradient(X_batch, y_batch)\n",
    "  for ii in range(1, 5+1):\n",
    "    velocity['W'+str(ii)] = e1 * velocity['W'+str(ii)] - e2 * grads['W'+str(ii)]\n",
    "    velocity['b'+str(ii)] = e1 * velocity['b'+str(ii)] - e2 * grads['b'+str(ii)]\n",
    "    net.params['W'+str(ii)] += velocity['W'+str(ii)]\n",
    "    net.params['b'+str(ii)] += velocity['b'+str(ii)]\n",
    "    #net.params['W'+str(ii)] -= lr * grads['W'+str(ii)]\n",
    "    #net.params['b'+str(ii)] -= lr * grads['b'+str(ii)]\n",
    "  #loss = net.loss(X_batch, t_batch)\n",
    "  #train_loss_list.append(loss)\n",
    "\n",
    "  #if i % epoch_size == 0:\n",
    "  if i % 10 == 0:\n",
    "    #train_acc = net.accuracy(X_traiㅑn, y_train)\n",
    "    test_acc = net.accuracy(X_test, y_test)\n",
    "    #train_acc_list.append(train_acc)\n",
    "    #test_acc_list.append(test_acc)\n",
    "    #print(train_acc, test_acc)\n",
    "    print(test_acc)"
   ]
  },
  {
   "cell_type": "code",
   "execution_count": null,
   "metadata": {
    "id": "DFjl5GsJCnBo"
   },
   "outputs": [],
   "source": [
    "test_target = np.random.choice(X_test.shape[0], 5)\n",
    "X_target = X_test[test_target]"
   ]
  },
  {
   "cell_type": "code",
   "execution_count": 19,
   "metadata": {
    "id": "NlUj4HqzUAXt"
   },
   "outputs": [
    {
     "ename": "NameError",
     "evalue": "name 'X_target' is not defined",
     "output_type": "error",
     "traceback": [
      "\u001b[1;31m---------------------------------------------------------------------------\u001b[0m",
      "\u001b[1;31mNameError\u001b[0m                                 Traceback (most recent call last)",
      "\u001b[1;32m~\\AppData\\Local\\Temp\\ipykernel_5236\\2526936419.py\u001b[0m in \u001b[0;36m<module>\u001b[1;34m\u001b[0m\n\u001b[1;32m----> 1\u001b[1;33m \u001b[0mpreds\u001b[0m \u001b[1;33m=\u001b[0m \u001b[0mnet\u001b[0m\u001b[1;33m.\u001b[0m\u001b[0mpredict\u001b[0m\u001b[1;33m(\u001b[0m\u001b[0mX_target\u001b[0m\u001b[1;33m)\u001b[0m\u001b[1;33m\u001b[0m\u001b[1;33m\u001b[0m\u001b[0m\n\u001b[0m",
      "\u001b[1;31mNameError\u001b[0m: name 'X_target' is not defined"
     ]
    }
   ],
   "source": [
    "preds = net.predict(X_target)"
   ]
  },
  {
   "cell_type": "code",
   "execution_count": 20,
   "metadata": {
    "id": "LRWR9dUkYJ4M"
   },
   "outputs": [
    {
     "ename": "NameError",
     "evalue": "name 'preds' is not defined",
     "output_type": "error",
     "traceback": [
      "\u001b[1;31m---------------------------------------------------------------------------\u001b[0m",
      "\u001b[1;31mNameError\u001b[0m                                 Traceback (most recent call last)",
      "\u001b[1;32m~\\AppData\\Local\\Temp\\ipykernel_5236\\2359172118.py\u001b[0m in \u001b[0;36m<module>\u001b[1;34m\u001b[0m\n\u001b[1;32m----> 1\u001b[1;33m \u001b[0mcats\u001b[0m \u001b[1;33m=\u001b[0m \u001b[0mpreds\u001b[0m\u001b[1;33m[\u001b[0m\u001b[1;33m:\u001b[0m\u001b[1;33m,\u001b[0m\u001b[1;36m0\u001b[0m\u001b[1;33m]\u001b[0m \u001b[1;33m<\u001b[0m \u001b[0mpreds\u001b[0m\u001b[1;33m[\u001b[0m\u001b[1;33m:\u001b[0m\u001b[1;33m,\u001b[0m\u001b[1;36m1\u001b[0m\u001b[1;33m]\u001b[0m\u001b[1;33m\u001b[0m\u001b[1;33m\u001b[0m\u001b[0m\n\u001b[0m",
      "\u001b[1;31mNameError\u001b[0m: name 'preds' is not defined"
     ]
    }
   ],
   "source": [
    "cats = preds[:,0] < preds[:,1]"
   ]
  },
  {
   "cell_type": "code",
   "execution_count": 21,
   "metadata": {
    "id": "yYwyt2WWYQbg"
   },
   "outputs": [
    {
     "ename": "NameError",
     "evalue": "name 'X_target' is not defined",
     "output_type": "error",
     "traceback": [
      "\u001b[1;31m---------------------------------------------------------------------------\u001b[0m",
      "\u001b[1;31mNameError\u001b[0m                                 Traceback (most recent call last)",
      "\u001b[1;32m~\\AppData\\Local\\Temp\\ipykernel_5236\\3383289213.py\u001b[0m in \u001b[0;36m<module>\u001b[1;34m\u001b[0m\n\u001b[0;32m      2\u001b[0m \u001b[1;32mfor\u001b[0m \u001b[0mi\u001b[0m \u001b[1;32min\u001b[0m \u001b[0mrange\u001b[0m\u001b[1;33m(\u001b[0m\u001b[1;36m5\u001b[0m\u001b[1;33m)\u001b[0m\u001b[1;33m:\u001b[0m\u001b[1;33m\u001b[0m\u001b[1;33m\u001b[0m\u001b[0m\n\u001b[0;32m      3\u001b[0m   \u001b[0mplt\u001b[0m\u001b[1;33m.\u001b[0m\u001b[0msubplot\u001b[0m\u001b[1;33m(\u001b[0m\u001b[1;36m1\u001b[0m\u001b[1;33m,\u001b[0m\u001b[1;36m5\u001b[0m\u001b[1;33m,\u001b[0m\u001b[0mi\u001b[0m\u001b[1;33m+\u001b[0m\u001b[1;36m1\u001b[0m\u001b[1;33m)\u001b[0m\u001b[1;33m\u001b[0m\u001b[1;33m\u001b[0m\u001b[0m\n\u001b[1;32m----> 4\u001b[1;33m   \u001b[0mprint\u001b[0m\u001b[1;33m(\u001b[0m\u001b[0mX_target\u001b[0m\u001b[1;33m[\u001b[0m\u001b[0mi\u001b[0m\u001b[1;33m]\u001b[0m\u001b[1;33m.\u001b[0m\u001b[0mshape\u001b[0m\u001b[1;33m)\u001b[0m\u001b[1;33m\u001b[0m\u001b[1;33m\u001b[0m\u001b[0m\n\u001b[0m\u001b[0;32m      5\u001b[0m   \u001b[1;32mif\u001b[0m \u001b[0mcats\u001b[0m\u001b[1;33m[\u001b[0m\u001b[0mi\u001b[0m\u001b[1;33m]\u001b[0m \u001b[1;33m==\u001b[0m \u001b[1;32mTrue\u001b[0m\u001b[1;33m:\u001b[0m\u001b[1;33m\u001b[0m\u001b[1;33m\u001b[0m\u001b[0m\n\u001b[0;32m      6\u001b[0m     \u001b[0mplt\u001b[0m\u001b[1;33m.\u001b[0m\u001b[0mtitle\u001b[0m\u001b[1;33m(\u001b[0m\u001b[1;34m\"CAT\"\u001b[0m\u001b[1;33m)\u001b[0m\u001b[1;33m\u001b[0m\u001b[1;33m\u001b[0m\u001b[0m\n",
      "\u001b[1;31mNameError\u001b[0m: name 'X_target' is not defined"
     ]
    },
    {
     "data": {
      "image/png": "[encoded data removed]",
      "text/plain": [
       "<Figure size 1000x200 with 1 Axes>"
      ]
     },
     "metadata": {},
     "output_type": "display_data"
    }
   ],
   "source": [
    "plt.figure(figsize=(10, 2))\n",
    "for i in range(5):\n",
    "  plt.subplot(1,5,i+1)\n",
    "  print(X_target[i].shape)\n",
    "  if cats[i] == True:\n",
    "    plt.title(\"CAT\")\n",
    "  else:\n",
    "    plt.title(\"DOG\")\n",
    "  plt.imshow(X_target[i].transpose(1,2,0))"
   ]
  },
  {
   "cell_type": "code",
   "execution_count": null,
   "metadata": {
    "id": "9tydKYT4ZqRo"
   },
   "outputs": [],
   "source": []
  },
  {
   "cell_type": "code",
   "execution_count": null,
   "metadata": {},
   "outputs": [],
   "source": []
  },
  {
   "cell_type": "code",
   "execution_count": null,
   "metadata": {},
   "outputs": [],
   "source": []
  },
  {
   "cell_type": "code",
   "execution_count": null,
   "metadata": {},
   "outputs": [],
   "source": []
  },
  {
   "cell_type": "code",
   "execution_count": null,
   "metadata": {},
   "outputs": [],
   "source": []
  },
  {
   "cell_type": "code",
   "execution_count": null,
   "metadata": {},
   "outputs": [],
   "source": []
  }
 ],
 "metadata": {
  "colab": {
   "authorship_tag": "ABX9TyPUiXjv2Y1ITwj1dG6zhyDv",
   "collapsed_sections": [],
   "name": "7_CNN_3.ipynb",
   "provenance": [
    {
     "file_id": "19YBu1kBrmZGguPft-yWIpSzBVuXD5OiD",
     "timestamp": 1641908235934
    }
   ]
  },
  "kernelspec": {
   "display_name": "Python 3 (ipykernel)",
   "language": "python",
   "name": "python3"
  },
  "language_info": {
   "codemirror_mode": {
    "name": "ipython",
    "version": 3
   },
   "file_extension": ".py",
   "mimetype": "text/x-python",
   "name": "python",
   "nbconvert_exporter": "python",
   "pygments_lexer": "ipython3",
   "version": "3.9.13"
  }
 },
 "nbformat": 4,
 "nbformat_minor": 1
}
